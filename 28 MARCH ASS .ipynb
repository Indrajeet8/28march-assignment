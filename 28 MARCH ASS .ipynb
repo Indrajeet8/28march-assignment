{
 "cells": [
  {
   "cell_type": "markdown",
   "id": "53e8153c-6f6f-4514-b7e3-f2daeaa86aba",
   "metadata": {},
   "source": [
    "## Regression-3"
   ]
  },
  {
   "cell_type": "markdown",
   "id": "4179f424-9038-4960-8eae-d94f42614e0e",
   "metadata": {},
   "source": [
    "### Assignment Questions"
   ]
  },
  {
   "cell_type": "markdown",
   "id": "0760f1a5-b26a-48dd-a715-67a5612960ce",
   "metadata": {},
   "source": [
    "#Q1. What is Ridge Regression, and how does it differ from ordinary least squares regression?"
   ]
  },
  {
   "cell_type": "markdown",
   "id": "1c4e5486-1032-4f32-8c99-6bf9bd0258d6",
   "metadata": {},
   "source": [
    "Ans. "
   ]
  },
  {
   "cell_type": "markdown",
   "id": "8aa34081-586b-4057-ba28-e7130ad400d1",
   "metadata": {},
   "source": [
    "Ridge regression is a model tunning method that is used to analyese any data that suffer from multicollinearity . this method performs L2 regularization . when the issue of multicollinearity occurs least sqaure are unbiased and varies are large this results in predicts value being for away from the actual vales "
   ]
  },
  {
   "cell_type": "markdown",
   "id": "e9c57dee-3a94-4619-9fb2-b2f243d1cad1",
   "metadata": {},
   "source": [
    "Q2. What are the assumptions of Ridge Regression?"
   ]
  },
  {
   "cell_type": "markdown",
   "id": "d9fff2aa-94f0-4e21-8c03-9405aa41c492",
   "metadata": {},
   "source": [
    "Ans."
   ]
  },
  {
   "cell_type": "markdown",
   "id": "d3b235d7-fd58-401a-baf7-389b32856382",
   "metadata": {},
   "source": [
    "Assumptions of Ridge Regressions\n",
    "The assumptions of ridge regression are the same as that of linear regression: linearity, constant variance, and independence"
   ]
  },
  {
   "cell_type": "code",
   "execution_count": null,
   "id": "71b93129-fc07-4ffe-a453-b1dfefaf196c",
   "metadata": {},
   "outputs": [],
   "source": []
  },
  {
   "cell_type": "markdown",
   "id": "a8e54e74-ca38-48db-8ca5-c0cbba6fb36b",
   "metadata": {},
   "source": [
    "Q3. How do you select the value of the tuning parameter (lambda) in Ridge Regression?"
   ]
  },
  {
   "cell_type": "markdown",
   "id": "59886856-dc37-4a6d-8f28-7fa30ea60d04",
   "metadata": {},
   "source": [
    "Instead of arbitrarily choosing λ=4, it would be better to use cross-validation to choose the tuning parameter λ. We can do this using the built-in cross-validation function, cv. glmnet() . By default, the function performs 10-fold cross-validation, though this can be changed using the argument folds ."
   ]
  },
  {
   "cell_type": "code",
   "execution_count": null,
   "id": "493083d6-8a32-484f-b9bc-f93198046af4",
   "metadata": {},
   "outputs": [],
   "source": []
  },
  {
   "cell_type": "markdown",
   "id": "5b5b383c-37a3-4a3e-84e4-8a64264652c7",
   "metadata": {},
   "source": [
    "Q4. Can Ridge Regression be used for feature selection? If yes, how?"
   ]
  },
  {
   "cell_type": "markdown",
   "id": "c9037201-a625-4656-b632-a80bbdd7d339",
   "metadata": {},
   "source": [
    "We can use ridge regression for feachure selection while fitting the model . in article we are going use logistice regression for model fitting and pussing thw parameters penalty as L2 whuch basilly means penalty we are use in ridge regression "
   ]
  },
  {
   "cell_type": "code",
   "execution_count": null,
   "id": "48a06a14-6309-431e-864d-1e102095c379",
   "metadata": {},
   "outputs": [],
   "source": []
  },
  {
   "cell_type": "markdown",
   "id": "c5b7fc09-9a3d-4ee8-a7b0-4d0e4f07e740",
   "metadata": {},
   "source": [
    "Q5. How does the Ridge Regression model perform in the presence of multicollinearity?"
   ]
  },
  {
   "cell_type": "markdown",
   "id": "1005be84-12c8-416b-bb96-c8d33cde941d",
   "metadata": {},
   "source": [
    "Ridge Regression is a technique for analyzing multiple regression data that suffer from multicollinearity, The particular kind used by ridge regression is known as L2 regularization . In ridge regression, the penalty is the sum of the squares of the coefficients."
   ]
  },
  {
   "cell_type": "code",
   "execution_count": null,
   "id": "30403d17-9e80-4c7c-8453-b3b32a098111",
   "metadata": {},
   "outputs": [],
   "source": []
  },
  {
   "cell_type": "markdown",
   "id": "f1942f87-8647-4ae6-8c75-9ec405ed1df5",
   "metadata": {},
   "source": [
    "Q6. Can Ridge Regression handle both categorical and continuous independent variables?"
   ]
  },
  {
   "cell_type": "markdown",
   "id": "cf838d56-be0a-439d-b4e6-d9978de2726b",
   "metadata": {},
   "source": [
    "Yes "
   ]
  },
  {
   "cell_type": "code",
   "execution_count": null,
   "id": "58d4f79c-afa1-4694-a4ac-41dac9d64b1f",
   "metadata": {},
   "outputs": [],
   "source": []
  },
  {
   "cell_type": "markdown",
   "id": "e0a5fd97-8cb0-45e5-8f0b-f4ac4a34109d",
   "metadata": {},
   "source": [
    "Q7. How do you interpret the coefficients of Ridge Regression?"
   ]
  },
  {
   "cell_type": "code",
   "execution_count": null,
   "id": "e726e15b-2d8b-4591-8665-2b4c1ea6ab61",
   "metadata": {},
   "outputs": [],
   "source": []
  }
 ],
 "metadata": {
  "kernelspec": {
   "display_name": "Python 3 (ipykernel)",
   "language": "python",
   "name": "python3"
  },
  "language_info": {
   "codemirror_mode": {
    "name": "ipython",
    "version": 3
   },
   "file_extension": ".py",
   "mimetype": "text/x-python",
   "name": "python",
   "nbconvert_exporter": "python",
   "pygments_lexer": "ipython3",
   "version": "3.10.8"
  }
 },
 "nbformat": 4,
 "nbformat_minor": 5
}
